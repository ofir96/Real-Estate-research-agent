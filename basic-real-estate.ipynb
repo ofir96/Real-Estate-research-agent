{
 "cells": [
  {
   "cell_type": "code",
   "execution_count": 30,
   "id": "a8470bdd-a443-49c8-88d5-81ef078a05e0",
   "metadata": {},
   "outputs": [
    {
     "data": {
      "text/plain": [
       "False"
      ]
     },
     "execution_count": 30,
     "metadata": {},
     "output_type": "execute_result"
    }
   ],
   "source": [
    "import os\n",
    "from typing import List, Dict, Any, Union\n",
    "from langchain import LLMChain, PromptTemplate\n",
    "from langchain.llms import OpenAI\n",
    "from langchain.agents import Tool, AgentExecutor, LLMSingleActionAgent\n",
    "from langchain.memory import ConversationBufferMemory\n",
    "from langchain.tools import BaseTool\n",
    "from langchain.callbacks import get_openai_callback\n",
    "from pydantic import BaseModel, Field\n",
    "from langchain.agents.agent import AgentOutputParser\n",
    "import re\n",
    "from langchain.schema import AgentAction, AgentFinish\n",
    "from langchain.agents import AgentType, Tool, initialize_agent\n",
    "from langchain.memory import ConversationBufferMemory\n",
    "\n",
    "# Load environment variables\n",
    "from dotenv import load_dotenv\n",
    "load_dotenv()\n"
   ]
  },
  {
   "cell_type": "code",
   "execution_count": null,
   "id": "e7660b02",
   "metadata": {},
   "outputs": [],
   "source": [
    "\n",
    "# Load environment variables from .env file\n",
    "load_dotenv()\n",
    "\n",
    "# Get the API key from environment variables\n",
    "openai_api_key = os.getenv(\"OPENAI_API_KEY\")"
   ]
  },
  {
   "cell_type": "code",
   "execution_count": 6,
   "id": "fe8147f4-3307-4b56-887f-f8d7b6b6b274",
   "metadata": {},
   "outputs": [],
   "source": [
    "# Initialize OpenAI LLM\n",
    "llm = OpenAI(temperature=0, openai_api_key=openai_api_key)"
   ]
  },
  {
   "cell_type": "code",
   "execution_count": 9,
   "id": "b9bb48eb-efe5-4596-9533-2f2d39c81a1c",
   "metadata": {},
   "outputs": [],
   "source": [
    "# Define prompt templates\n",
    "city_ranking_template = PromptTemplate(\n",
    "    input_variables=[\"country\", \"budget\", \"needs\"],\n",
    "    template=\"Rank the top 5 cities in {country} for real estate investment with a budget of {budget} and these needs: {needs}. Provide a brief explanation for each city.\"\n",
    ")\n",
    "\n",
    "neighborhood_analysis_template = PromptTemplate(\n",
    "    input_variables=[\"city\", \"budget\", \"needs\"],\n",
    "    template=\"Analyze the top 5 neighborhoods in {city} for real estate investment with a budget of {budget} and these needs: {needs}. Include pros and cons for each neighborhood.\"\n",
    ")\n",
    "\n",
    "# Define prompt templates\n",
    "city_ranking_template = PromptTemplate(\n",
    "    input_variables=[\"country\", \"budget\", \"needs\"],\n",
    "    template=\"Rank the top 5 cities in {country} for real estate investment with a budget of {budget} and these needs: {needs}. Provide a brief explanation for each city.\"\n",
    ")\n",
    "\n",
    "neighborhood_analysis_template = PromptTemplate(\n",
    "    input_variables=[\"city\", \"budget\", \"needs\"],\n",
    "    template=\"Analyze the top 5 neighborhoods in {city} for real estate investment with a budget of {budget} and these needs: {needs}. Include pros and cons for each neighborhood.\"\n",
    ")\n",
    "\n",
    "property_recommendation_template = PromptTemplate(\n",
    "    input_variables=[\"neighborhood\", \"budget\", \"needs\"],\n",
    "    template=\"Recommend 3 types of properties in {neighborhood} that fit a budget of {budget} and these needs: {needs}. Include estimated prices and potential return on investment.\"\n",
    ")\n",
    "\n",
    "market_trend_template = PromptTemplate(\n",
    "    input_variables=[\"location\"],\n",
    "    template=\"Analyze the real estate market trends in {location} over the past 5 years and provide a forecast for the next 2 years.\"\n",
    ")"
   ]
  },
  {
   "cell_type": "code",
   "execution_count": 10,
   "id": "94f634ab-a733-42d5-b6a3-5a571720befd",
   "metadata": {},
   "outputs": [],
   "source": [
    "# Create LLMChains\n",
    "city_ranking_chain = LLMChain(llm=llm, prompt=city_ranking_template)\n",
    "neighborhood_analysis_chain = LLMChain(llm=llm, prompt=neighborhood_analysis_template)\n",
    "property_recommendation_chain = LLMChain(llm=llm, prompt=property_recommendation_template)\n",
    "market_trend_chain = LLMChain(llm=llm, prompt=market_trend_template)\n"
   ]
  },
  {
   "cell_type": "code",
   "execution_count": 11,
   "id": "a19e0230-8fab-43d3-b0bf-f165072d9ef1",
   "metadata": {},
   "outputs": [],
   "source": [
    "class CityRankingTool(BaseTool):\n",
    "    name = \"CityRanking\"\n",
    "    description = \"Useful for ranking cities based on real estate criteria\"\n",
    "\n",
    "    def _run(self, country: str, budget: str, needs: str) -> str:\n",
    "        return city_ranking_chain.run(country=country, budget=budget, needs=needs)\n",
    "\n",
    "    def _arun(self, country: str, budget: str, needs: str) -> str:\n",
    "        raise NotImplementedError(\"This tool does not support async\")\n"
   ]
  },
  {
   "cell_type": "code",
   "execution_count": 12,
   "id": "264db50f-873a-4cf2-be61-7ea93ce8d04a",
   "metadata": {},
   "outputs": [],
   "source": [
    "class NeighborhoodAnalysisTool(BaseTool):\n",
    "    name = \"NeighborhoodAnalysis\"\n",
    "    description = \"Useful for analyzing neighborhoods within a city\"\n",
    "\n",
    "    def _run(self, city: str, budget: str, needs: str) -> str:\n",
    "        return neighborhood_analysis_chain.run(city=city, budget=budget, needs=needs)\n",
    "\n",
    "    def _arun(self, city: str, budget: str, needs: str) -> str:\n",
    "        raise NotImplementedError(\"This tool does not support async\")\n"
   ]
  },
  {
   "cell_type": "code",
   "execution_count": 13,
   "id": "7cd3cfb1-dfcf-450a-894f-cb166d2040e9",
   "metadata": {},
   "outputs": [],
   "source": [
    "class PropertyRecommendationTool(BaseTool):\n",
    "    name = \"PropertyRecommendation\"\n",
    "    description = \"Useful for recommending properties in a specific neighborhood\"\n",
    "\n",
    "    def _run(self, neighborhood: str, budget: str, needs: str) -> str:\n",
    "        return property_recommendation_chain.run(neighborhood=neighborhood, budget=budget, needs=needs)\n",
    "\n",
    "    def _arun(self, neighborhood: str, budget: str, needs: str) -> str:\n",
    "        raise NotImplementedError(\"This tool does not support async\")\n"
   ]
  },
  {
   "cell_type": "code",
   "execution_count": 14,
   "id": "bb153baa-e18b-452e-870e-ea6e06994311",
   "metadata": {},
   "outputs": [],
   "source": [
    "class MarketTrendTool(BaseTool):\n",
    "    name = \"MarketTrend\"\n",
    "    description = \"Useful for analyzing real estate market trends in a location\"\n",
    "\n",
    "    def _run(self, location: str) -> str:\n",
    "        return market_trend_chain.run(location=location)\n",
    "\n",
    "    def _arun(self, location: str) -> str:\n",
    "        raise NotImplementedError(\"This tool does not support async\")\n"
   ]
  },
  {
   "cell_type": "code",
   "execution_count": 15,
   "id": "2c642985-55d8-4fd7-ab89-b23f89a2ec30",
   "metadata": {},
   "outputs": [],
   "source": [
    "# Define tools\n",
    "tools = [\n",
    "    CityRankingTool(),\n",
    "    NeighborhoodAnalysisTool(),\n",
    "    PropertyRecommendationTool(),\n",
    "    MarketTrendTool()\n",
    "]"
   ]
  },
  {
   "cell_type": "code",
   "execution_count": 39,
   "id": "e3aabdce-653c-47ee-8c19-468df912de35",
   "metadata": {},
   "outputs": [],
   "source": [
    "# Define a custom output parser\n",
    "class CustomOutputParser(AgentOutputParser):\n",
    "    def parse(self, llm_output: str) -> Union[AgentAction, AgentFinish]:\n",
    "        # Check if the output indicates a final answer\n",
    "        if \"Final Answer:\" in llm_output:\n",
    "            return AgentFinish(\n",
    "                return_values={\"output\": llm_output.split(\"Final Answer:\")[-1].strip()},\n",
    "                log=llm_output,\n",
    "            )\n",
    "        \n",
    "        # Use regex to parse the action and action input\n",
    "        regex = r\"Action: (.*?)[\\n]*Action Input:[\\s]*(.*)\"\n",
    "        match = re.search(regex, llm_output, re.DOTALL)\n",
    "        \n",
    "        if not match:\n",
    "            raise ValueError(f\"Could not parse LLM output: `{llm_output}`\")\n",
    "        \n",
    "        action = match.group(1).strip()\n",
    "        action_input = match.group(2)\n",
    "        \n",
    "        return AgentAction(tool=action, tool_input=action_input.strip(\" \").strip('\"'), log=llm_output)\n",
    "\n",
    "# Update the agent "
   ]
  },
  {
   "cell_type": "code",
   "execution_count": 40,
   "id": "9c2dced0-b9fe-47b2-8fda-a4d7d1393c9c",
   "metadata": {},
   "outputs": [],
   "source": [
    "agent = LLMSingleActionAgent(\n",
    "    llm_chain=LLMChain(llm=llm, prompt=PromptTemplate(template=\"{input}\\nThought: {agent_scratchpad}\", input_variables=[\"input\", \"agent_scratchpad\"])),\n",
    "    output_parser=CustomOutputParser(),\n",
    "    stop=[\"\\nObservation:\"],\n",
    "    allowed_tools=[tool.name for tool in tools]\n",
    ")"
   ]
  },
  {
   "cell_type": "code",
   "execution_count": 41,
   "id": "8af1547c-06f5-4fd0-b04a-22bdca779e19",
   "metadata": {},
   "outputs": [],
   "source": [
    "import json\n",
    "from langchain.agents import AgentType, Tool, initialize_agent\n",
    "from langchain.memory import ConversationBufferMemory\n",
    "\n",
    "# ... (keep all the previous code up to the tool definitions)\n",
    "\n",
    "# Wrapper functions for tools\n",
    "def city_ranking_wrapper(input_str):\n",
    "    try:\n",
    "        input_dict = json.loads(input_str)\n",
    "        return city_ranking_chain.run(**input_dict)\n",
    "    except json.JSONDecodeError:\n",
    "        return \"Error: Input should be a JSON string with keys 'country', 'budget', and 'needs'.\"\n",
    "\n",
    "def neighborhood_analysis_wrapper(input_str):\n",
    "    try:\n",
    "        input_dict = json.loads(input_str)\n",
    "        return neighborhood_analysis_chain.run(**input_dict)\n",
    "    except json.JSONDecodeError:\n",
    "        return \"Error: Input should be a JSON string with keys 'city', 'budget', and 'needs'.\"\n",
    "\n",
    "def property_recommendation_wrapper(input_str):\n",
    "    try:\n",
    "        input_dict = json.loads(input_str)\n",
    "        return property_recommendation_chain.run(**input_dict)\n",
    "    except json.JSONDecodeError:\n",
    "        return \"Error: Input should be a JSON string with keys 'neighborhood', 'budget', and 'needs'.\"\n",
    "\n",
    "def market_trend_wrapper(input_str):\n",
    "    try:\n",
    "        input_dict = json.loads(input_str)\n",
    "        return market_trend_chain.run(**input_dict)\n",
    "    except json.JSONDecodeError:\n",
    "        return \"Error: Input should be a JSON string with key 'location'.\"\n",
    "\n",
    "# Define tools with wrappers\n",
    "tools = [\n",
    "    Tool(\n",
    "        name=\"CityRanking\",\n",
    "        func=city_ranking_wrapper,\n",
    "        description=\"Useful for ranking cities based on real estate criteria. Input should be a JSON string with keys 'country', 'budget', and 'needs'.\"\n",
    "    ),\n",
    "    Tool(\n",
    "        name=\"NeighborhoodAnalysis\",\n",
    "        func=neighborhood_analysis_wrapper,\n",
    "        description=\"Useful for analyzing neighborhoods within a city. Input should be a JSON string with keys 'city', 'budget', and 'needs'.\"\n",
    "    ),\n",
    "    Tool(\n",
    "        name=\"PropertyRecommendation\",\n",
    "        func=property_recommendation_wrapper,\n",
    "        description=\"Useful for recommending properties in a specific neighborhood. Input should be a JSON string with keys 'neighborhood', 'budget', and 'needs'.\"\n",
    "    ),\n",
    "    Tool(\n",
    "        name=\"MarketTrend\",\n",
    "        func=market_trend_wrapper,\n",
    "        description=\"Useful for analyzing real estate market trends in a location. Input should be a JSON string with key 'location'.\"\n",
    "    )\n",
    "]\n",
    "\n",
    "# Custom prompt template (INSERT HERE)\n",
    "template = \"\"\"You are an AI real estate agent. Your task is to provide real estate investment recommendations in a specific JSON format.\n",
    "\n",
    "Your recommendations should include:\n",
    "1. One country\n",
    "2. Up to three cities in that country\n",
    "3. Up to ten neighborhoods for each city\n",
    "\n",
    "Use the following tools to gather information:\n",
    "{tools}\n",
    "\"\"\"\n"
   ]
  },
  {
   "cell_type": "code",
   "execution_count": 42,
   "id": "d6e5c81b-28ba-4e87-a609-50bdd812d7e0",
   "metadata": {},
   "outputs": [
    {
     "name": "stdout",
     "output_type": "stream",
     "text": [
      "Welcome to the AI Real Estate Agent!\n",
      "I can help you with real estate investment decisions.\n",
      "Please provide the following information:\n"
     ]
    },
    {
     "name": "stdout",
     "output_type": "stream",
     "text": [
      "Country:  Portugal\n",
      "Budget:  200000\n",
      "Your needs (comma-separated):  apartments between T0 to T3 in a good location for investment \n"
     ]
    },
    {
     "name": "stdout",
     "output_type": "stream",
     "text": [
      "\n",
      "\n",
      "\u001b[1m> Entering new AgentExecutor chain...\u001b[0m\n",
      "An error occurred: Missing some input keys: {'input', 'agent_scratchpad'}\n"
     ]
    }
   ],
   "source": [
    "# Main function to run the AI real estate agent\n",
    "def run_ai_real_estate_agent():\n",
    "    print(\"Welcome to the AI Real Estate Agent!\")\n",
    "    print(\"I can help you with real estate investment decisions.\")\n",
    "    print(\"Please provide the following information:\")\n",
    "\n",
    "    country = input(\"Country: \")\n",
    "    budget = input(\"Budget: \")\n",
    "    needs = input(\"Your needs (comma-separated): \")\n",
    "\n",
    "    input_data = {\n",
    "        \"country\": country,\n",
    "        \"budget\": budget,\n",
    "        \"needs\": needs\n",
    "    }\n",
    "\n",
    "    try:\n",
    "        with get_openai_callback() as cb:\n",
    "            result = agent_executor.run(input_data)\n",
    "            print(\"\\nAI Real Estate Agent Report:\")\n",
    "            print(result)\n",
    "            print(f\"\\nTotal Tokens: {cb.total_tokens}\")\n",
    "            print(f\"Total Cost (USD): ${cb.total_cost:.4f}\")\n",
    "    except Exception as e:\n",
    "        print(f\"An error occurred: {str(e)}\")\n",
    "\n",
    "if __name__ == \"__main__\":\n",
    "    run_ai_real_estate_agent()"
   ]
  }
 ],
 "metadata": {
  "kernelspec": {
   "display_name": "Python 3 (ipykernel)",
   "language": "python",
   "name": "python3"
  },
  "language_info": {
   "codemirror_mode": {
    "name": "ipython",
    "version": 3
   },
   "file_extension": ".py",
   "mimetype": "text/x-python",
   "name": "python",
   "nbconvert_exporter": "python",
   "pygments_lexer": "ipython3",
   "version": "3.11.8"
  }
 },
 "nbformat": 4,
 "nbformat_minor": 5
}
